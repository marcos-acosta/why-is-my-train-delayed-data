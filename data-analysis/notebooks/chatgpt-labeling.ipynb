{
 "cells": [
  {
   "cell_type": "code",
   "execution_count": 4,
   "id": "0f867a0d-8c8b-4f1f-aad3-9df0782568bf",
   "metadata": {},
   "outputs": [],
   "source": [
    "from openai import OpenAI\n",
    "from dotenv import load_dotenv\n",
    "import os"
   ]
  },
  {
   "cell_type": "code",
   "execution_count": 3,
   "id": "a2a550e9-26e1-4a2d-9950-a33f12ca90d9",
   "metadata": {},
   "outputs": [
    {
     "data": {
      "text/plain": [
       "True"
      ]
     },
     "execution_count": 3,
     "metadata": {},
     "output_type": "execute_result"
    }
   ],
   "source": [
    "load_dotenv()"
   ]
  },
  {
   "cell_type": "code",
   "execution_count": 10,
   "id": "eee36b08-e6d3-413d-a922-997e93ad0577",
   "metadata": {},
   "outputs": [],
   "source": [
    "client = OpenAI(\n",
    "    api_key=os.environ.get(\"OPENAI_API_KEY\"),\n",
    ")"
   ]
  },
  {
   "cell_type": "code",
   "execution_count": 81,
   "id": "619fd88f-95b2-486f-b513-a4f255adc6e3",
   "metadata": {},
   "outputs": [],
   "source": [
    "BASE_PROMPT = \"\"\"\\\n",
    "You will be given a list of alerts used by the MTA to communicate delays. Your task is to determine what is the root \\\n",
    "cause of the delay in each case, along with the station that the issue occurred at or near.\n",
    "\n",
    "Example input:\n",
    "1. There will be delays between Chambers St and 14th St because of a train that had to be removed from the tracks due to a door \\\n",
    "problem near Houston St.\n",
    "2. Southbound 4 trains are running with delays after EMS responded to a person in need of medical help at Crown Hts-Utica Av.\n",
    "3. Expect delays on 2 trains because of a signal issue.\n",
    "\n",
    "Desired reponse:\n",
    "1. {issue: \"Door problem\", station: \"Houston St\"}\n",
    "2. {issue: \"Medical emergency\", station: \"Crown Hts-Utica Av\"}\n",
    "3. {issue: \"Signal problem\", station: \"Unclear\"}\n",
    "\n",
    "The string used for the issue will be validated by an algorithm that expects one of the following strings:\n",
    "[\"Door problem\", \"Rail problem\", \"Switch problem\", \"Signal problem\", \"Power problem\", \"Maintenance work\", \\\n",
    "\"Brakes activated\", \"Disruptive passenger\", \"Medical emergency\", \"Person on tracks\", \"Person struck by train\", \"Cleaning / vandalism\", \\\n",
    "\"Object on tracks\", \"Fire / smoke\", \"Unspecified FDNY\", \"South Channel Bridge open\", \"Assault\", \"Flooding\", \"Unknown mechanical problem\", \\\n",
    "\"Other\"].\n",
    "Do NOT provide an issue that is not in that list. The station name must be one of the 472 NYCT stations, or \"Unclear\", if there is ambiguity. \n",
    "\n",
    "Notes:\n",
    "* Instead of Christopher St-Sheridan Sq, use Christopher St-Stonewall, since it has been recently renamed.\n",
    "\n",
    "Here are the alerts:\n",
    "\n",
    "\"\"\""
   ]
  },
  {
   "cell_type": "code",
   "execution_count": 80,
   "id": "10af0db6-9865-4359-afc6-5490af612c39",
   "metadata": {},
   "outputs": [
    {
     "data": {
      "text/plain": [
       "379.5"
      ]
     },
     "execution_count": 80,
     "metadata": {},
     "output_type": "execute_result"
    }
   ],
   "source": [
    "len(BASE_PROMPT)/4"
   ]
  },
  {
   "cell_type": "code",
   "execution_count": 82,
   "id": "01921e5a-a38e-4571-954e-a2e7f55cc64e",
   "metadata": {},
   "outputs": [],
   "source": [
    "INPUTS = '''\\\n",
    "1. Coney Island-bound F trains have resumed making local stops from Parsons Blvd to Kew Gardens - Union Tpke after our crews corrected a malfunctioning switch at Briarwood.\n",
    "2. Canarsie-bound L trains are holding in stations while we remove a car in need of cleaning from service at Bedford Av.\n",
    "3. Uptown A and C trains are delayed while NYPD responds to a disruptive passenger at 168 St.\n",
    "4. Northbound 6 trains are delayed while our crews perform urgent track maintenance at Hunts Point Av.\n",
    "5. Southbound 4 train service has resumed running local from Atlantic Av - Barclays Ctr to Crown Hts - Utica Av after our crews replaced rails at Nostrand Av.\n",
    "6. Northbound 2 and 4 trains are holding in stations while our crews perform urgent track maintenance at Atlantic Av - Barclays Ctr.\n",
    "7. Church Av-bound G trains are delayed while we request medical assistance for an injured passenger at Hoyt - Schermerhorn Sts.\n",
    "8. Southbound D trains are delayed because of a slow-moving work train on the Manhattan Bridge.\n",
    "9. Northbound N and Q trains have resumed local service from 34 St - Herald Sq to 57 St - 7 Av after a work train dropped off equipment along the local track. Reminder: Northbound 49 St station is being skipped during this time.\n",
    "10. Expect longer wait times in northbound 4 trains after we removed from service a car that needed cleaning at Borough Hall.\n",
    "11. Northbound 4 trains are delayed while we remove from service a train that needs cleaning at Grand Central - 42 St .\n",
    "12. Northbound 2 and 5 trains are proceeding with delays after we removed a train that needs cleaning from service at Prospect Av.\n",
    "13. Southbound 4 and 5 trains are proceeding with delays after NYPD removed a disruptive passenger from a train at Grand Central - 42 St.\n",
    "14. Southbound C trains are delayed while we request NYPD assistance with a disruptive passenger at Broadway Jct.\n",
    "15. Northbound A trains are delayed because of FDNY activity at 175 St.\n",
    "16. 6 trains are running with delays in both directions while we work to correct a mechanical problem on a train at Brooklyn Bridge - City Hall.\n",
    "17. Southbound D and N trains have resumed making express stops from Atlantic Av - Barclays Ctr to 36 St and 59 St in Brooklyn after NYPD and EMS responded to someone in need at Atlantic Av - Barclays Ctr.\n",
    "18. Southbound F trains are delayed while NYPD responds to a disruptive passenger at Roosevelt Island.\n",
    "19. 7 trains are delayed leaving and entering 34 St - Hudson Yds while we request NYPD and EMS assistance for someone at that station.\n",
    "20. Northbound C trains are delayed while we request EMS assistance for someone in need at 168 St.\n",
    "'''"
   ]
  },
  {
   "cell_type": "code",
   "execution_count": 84,
   "id": "3e240075-bde3-47ca-aeaf-98fc49b51565",
   "metadata": {},
   "outputs": [
    {
     "data": {
      "text/plain": [
       "2199964.325"
      ]
     },
     "execution_count": 84,
     "metadata": {},
     "output_type": "execute_result"
    }
   ],
   "source": [
    "((len(INPUTS)/4) / 20) * 67021"
   ]
  },
  {
   "cell_type": "code",
   "execution_count": 75,
   "id": "105127a2-3cfa-413f-8852-0d6fd5c212f2",
   "metadata": {},
   "outputs": [],
   "source": [
    "chat_completion = client.chat.completions.create(\n",
    "    messages=[\n",
    "        {\n",
    "            \"role\": \"user\",\n",
    "            \"content\": BASE_PROMPT\n",
    "        }\n",
    "    ],\n",
    "    model=\"gpt-4o-mini\",\n",
    ")"
   ]
  },
  {
   "cell_type": "code",
   "execution_count": 76,
   "id": "0f77a7ee-2432-41ab-89eb-d62dba195687",
   "metadata": {},
   "outputs": [
    {
     "data": {
      "text/plain": [
       "['1. {issue: \"Switch problem\", station: \"Briarwood\"}',\n",
       " '2. {issue: \"Cleaning / vandalism\", station: \"Bedford Av\"}',\n",
       " '3. {issue: \"Disruptive passenger\", station: \"168 St\"}',\n",
       " '4. {issue: \"Maintenance work\", station: \"Hunts Point Av\"}',\n",
       " '5. {issue: \"Rail problem\", station: \"Nostrand Av\"}',\n",
       " '6. {issue: \"Maintenance work\", station: \"Atlantic Av - Barclays Ctr\"}',\n",
       " '7. {issue: \"Medical emergency\", station: \"Hoyt - Schermerhorn Sts\"}',\n",
       " '8. {issue: \"Rail problem\", station: \"Unclear\"}',\n",
       " '9. {issue: \"Other\", station: \"Unclear\"}',\n",
       " '10. {issue: \"Cleaning / vandalism\", station: \"Borough Hall\"}',\n",
       " '11. {issue: \"Cleaning / vandalism\", station: \"Grand Central - 42 St\"}',\n",
       " '12. {issue: \"Cleaning / vandalism\", station: \"Prospect Av\"}',\n",
       " '13. {issue: \"Disruptive passenger\", station: \"Grand Central - 42 St\"}',\n",
       " '14. {issue: \"Disruptive passenger\", station: \"Broadway Jct\"}',\n",
       " '15. {issue: \"Medical emergency\", station: \"175 St\"}',\n",
       " '16. {issue: \"Unknown mechanical problem\", station: \"Brooklyn Bridge - City Hall\"}',\n",
       " '17. {issue: \"Medical emergency\", station: \"Atlantic Av - Barclays Ctr\"}',\n",
       " '18. {issue: \"Disruptive passenger\", station: \"Roosevelt Island\"}',\n",
       " '19. {issue: \"Medical emergency\", station: \"34 St - Hudson Yds\"}',\n",
       " '20. {issue: \"Medical emergency\", station: \"168 St\"}']"
      ]
     },
     "execution_count": 76,
     "metadata": {},
     "output_type": "execute_result"
    }
   ],
   "source": [
    "responses = chat_completion.choices[0].message.content.split('\\n')\n",
    "responses"
   ]
  },
  {
   "cell_type": "markdown",
   "id": "acd1bb2d-0693-4daa-83ca-9c0b63ed1a1b",
   "metadata": {},
   "source": [
    "1. Coney Island-bound F trains have resumed making local stops from Parsons Blvd to Kew Gardens - Union Tpke after our crews corrected a malfunctioning switch at Briarwood.\n",
    "2. Canarsie-bound L trains are holding in stations while we remove a car in need of cleaning from service at Bedford Av.\n",
    "3. Uptown A and C trains are delayed while NYPD responds to a disruptive passenger at 168 St.\n",
    "4. Northbound 6 trains are delayed while our crews perform urgent track maintenance at Hunts Point Av.\n",
    "5. Southbound 4 train service has resumed running local from Atlantic Av - Barclays Ctr to Crown Hts - Utica Av after our crews replaced rails at Nostrand Av.\n",
    "6. Northbound 2 and 4 trains are holding in stations while our crews perform urgent track maintenance at Atlantic Av - Barclays Ctr.\n",
    "7. Church Av-bound G trains are delayed while we request medical assistance for an injured passenger at Hoyt - Schermerhorn Sts.\n",
    "8. Southbound D trains are delayed because of a slow-moving work train on the Manhattan Bridge.\n",
    "9. Northbound N and Q trains have resumed local service from 34 St - Herald Sq to 57 St - 7 Av after a work train dropped off equipment along the local track. Reminder: Northbound 49 St station is being skipped during this time.\n",
    "10. Expect longer wait times in northbound 4 trains after we removed from service a car that needed cleaning at Borough Hall.\n",
    "11. Northbound 4 trains are delayed while we remove from service a train that needs cleaning at Grand Central - 42 St .\n",
    "12. Northbound 2 and 5 trains are proceeding with delays after we removed a train that needs cleaning from service at Prospect Av.\n",
    "13. Southbound 4 and 5 trains are proceeding with delays after NYPD removed a disruptive passenger from a train at Grand Central - 42 St.\n",
    "14. Southbound C trains are delayed while we request NYPD assistance with a disruptive passenger at Broadway Jct.\n",
    "15. Northbound A trains are delayed because of FDNY activity at 175 St.\n",
    "16. 6 trains are running with delays in both directions while we work to correct a mechanical problem on a train at Brooklyn Bridge - City Hall.\n",
    "17. Southbound D and N trains have resumed making express stops from Atlantic Av - Barclays Ctr to 36 St and 59 St in Brooklyn after NYPD and EMS responded to someone in need at Atlantic Av - Barclays Ctr.\n",
    "18. Southbound F trains are delayed while NYPD responds to a disruptive passenger at Roosevelt Island.\n",
    "19. 7 trains are delayed leaving and entering 34 St - Hudson Yds while we request NYPD and EMS assistance for someone at that station.\n",
    "20. Northbound C trains are delayed while we request EMS assistance for someone in need at 168 St.\n"
   ]
  }
 ],
 "metadata": {
  "kernelspec": {
   "display_name": "Python 3 (ipykernel)",
   "language": "python",
   "name": "python3"
  },
  "language_info": {
   "codemirror_mode": {
    "name": "ipython",
    "version": 3
   },
   "file_extension": ".py",
   "mimetype": "text/x-python",
   "name": "python",
   "nbconvert_exporter": "python",
   "pygments_lexer": "ipython3",
   "version": "3.12.5"
  }
 },
 "nbformat": 4,
 "nbformat_minor": 5
}
